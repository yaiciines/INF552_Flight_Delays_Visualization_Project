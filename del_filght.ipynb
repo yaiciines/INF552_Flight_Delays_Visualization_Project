{
 "cells": [
  {
   "cell_type": "code",
   "execution_count": 3,
   "metadata": {},
   "outputs": [],
   "source": [
    "import mysql.connector\n",
    "def get_airport_with_iata_number():\n",
    "    conn = mysql.connector.connect(\n",
    "    host=\"gr3z.eu\",\n",
    "    user=\"x9p31ij2_inf552\",\n",
    "    password=\"Y7!8F&HV*vb^V*kep^op\",\n",
    "    database=\"x9p31ij2_inf552\"\n",
    "    )\n",
    "    cursor = conn.cursor()\n",
    "\n",
    "    # Exécution de la requête SQL pour récupérer les CityCode\n",
    "    cursor.execute(\"SELECT CityCode, IATA_CODE FROM Cities WHERE IATA_CODE REGEXP '^[0-9]'\")\n",
    "\n",
    "    # Récupération des résultats\n",
    "    resultats = cursor.fetchall()\n",
    "    conn.close()\n",
    "    return resultats\n",
    "\n",
    "airport = get_airport_with_iata_number()\n",
    "    "
   ]
  },
  {
   "cell_type": "code",
   "execution_count": 4,
   "metadata": {},
   "outputs": [
    {
     "name": "stdout",
     "output_type": "stream",
     "text": [
      "[]\n"
     ]
    }
   ],
   "source": [
    "print(airport)"
   ]
  }
 ],
 "metadata": {
  "kernelspec": {
   "display_name": "Python 3",
   "language": "python",
   "name": "python3"
  },
  "language_info": {
   "codemirror_mode": {
    "name": "ipython",
    "version": 3
   },
   "file_extension": ".py",
   "mimetype": "text/x-python",
   "name": "python",
   "nbconvert_exporter": "python",
   "pygments_lexer": "ipython3",
   "version": "3.11.6"
  }
 },
 "nbformat": 4,
 "nbformat_minor": 2
}
